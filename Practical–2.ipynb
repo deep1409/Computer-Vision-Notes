{
  "nbformat": 4,
  "nbformat_minor": 0,
  "metadata": {
    "colab": {
      "name": "Practical–2.ipynb",
      "provenance": [],
      "collapsed_sections": [],
      "authorship_tag": "ABX9TyPYyR9pXAC3HcJl/HrEs3fb",
      "include_colab_link": true
    },
    "kernelspec": {
      "name": "python3",
      "display_name": "Python 3"
    },
    "language_info": {
      "name": "python"
    }
  },
  "cells": [
    {
      "cell_type": "markdown",
      "metadata": {
        "id": "view-in-github",
        "colab_type": "text"
      },
      "source": [
        "<a href=\"https://colab.research.google.com/github/deep1409/Computer-Vision-Notes/blob/master/Practical%E2%80%932.ipynb\" target=\"_parent\"><img src=\"https://colab.research.google.com/assets/colab-badge.svg\" alt=\"Open In Colab\"/></a>"
      ]
    },
    {
      "cell_type": "markdown",
      "metadata": {
        "id": "hyY1hj2drpAB"
      },
      "source": [
        "# **Aim: Download and installation of OpenCV and perform following operations on image.**\n",
        "\n",
        "***\n",
        "***(A)\tReading image***\n",
        "\n",
        "***(B)\twriting image***\n",
        "\n",
        "***(C)\tconversion of images*** \n",
        "***\n",
        "\n"
      ]
    },
    {
      "cell_type": "markdown",
      "metadata": {
        "id": "0uHJdxCksZMt"
      },
      "source": [
        "**NOTE : For this practical you have python install in your system if you are using this in your local system.**\n",
        "\n",
        "\n",
        "Before start use of OpenCV we have to download some open source libraries as follows:\n",
        "\n",
        "To install OpenCV for python write command in your command promp(cmd): \n",
        "\n",
        "> pip install opencv-python\n",
        "\n",
        "Press enter\n",
        "\n",
        "OpenCV is also installing numpy but if you not get installed with OpenCV then install it by wrtitting command in your command promp:\n",
        "\n",
        "> pip install numpy\n",
        "\n",
        "Press enter\n",
        "\n",
        "We use some mathematical calculation for that we have to install matplotlib\n",
        "\n",
        "write command in your command promp(cmd):\n",
        "\n",
        "> pip install matplotlib\n",
        "\n",
        "Press enter\n",
        "\n",
        "now looks like we have all things \n",
        "\n"
      ]
    },
    {
      "cell_type": "markdown",
      "metadata": {
        "id": "ozEz2UoAxY4C"
      },
      "source": [
        "***\n",
        "\n",
        "**(A)\tWrite code to read image:**\n",
        "\n",
        "***"
      ]
    },
    {
      "cell_type": "code",
      "metadata": {
        "id": "vdQc1MzmrOue"
      },
      "source": [
        "#import OpenCV librabry\n",
        "import cv2\n",
        "\n",
        "#if you are using colab import this lines\n",
        "from google.colab.patches import cv2_imshow\n",
        "import urllib.request\n",
        "from PIL import Image\n",
        "\n",
        "# To read image from disk, we use\n",
        "# cv2.imread function, in below method,\n",
        "# if your are using local system use below line \n",
        "#img = cv2.imread(\"E:\\image\\ppt3.jpg\", cv2.IMREAD_COLOR)\n",
        "\n",
        "#this below line is to get image by url\n",
        "url = 'https://www.python.org/static/community_logos/python-logo-master-v3-TM-flattened.png'\n",
        "urllib.request.urlretrieve(url, 'python.png')\n",
        "img = Image.open('python.png')\n",
        "\n",
        "img2 = cv2.imread('/content/python.png', cv2.IMREAD_COLOR)\n",
        "\n",
        "# Creating GUI window to display an image on screen\n",
        "# first Parameter is windows title (should be in string format)\n",
        "# Second Parameter is image array\n",
        "\n",
        "#write below line if you are using local system\n",
        "#cv2.imshow(\"Computer Vision\", img)\n",
        "\n",
        "#try this in colab\n",
        "cv2_imshow(img2)\n",
        "\n",
        "\n",
        "# To hold the window on screen, we use cv2.waitKey method\n",
        "# Once it detected the close input, it will release the control\n",
        "# To the next line\n",
        "# First Parameter is for holding screen for specified milliseconds\n",
        "# It should be positive integer. If 0 pass an parameter, then it will\n",
        "# hold the screen until user close it.\n",
        "\n",
        "cv2.waitKey(0)\n",
        "\n",
        "\n",
        "# It is for removing/deleting created GUI window from screen\n",
        "# and memory\n",
        "cv2.destroyAllWindows()\n"
      ],
      "execution_count": null,
      "outputs": []
    },
    {
      "cell_type": "markdown",
      "metadata": {
        "id": "RKhfIciV3UeX"
      },
      "source": [
        "**Note: If you are using local system you can see output image in new window in taskbar.**"
      ]
    },
    {
      "cell_type": "markdown",
      "metadata": {
        "id": "7Y3MiE163iAm"
      },
      "source": [
        "***\n",
        "\n",
        "**(B)\tWrite code for convert image into grey image**\n",
        "\n",
        "***"
      ]
    },
    {
      "cell_type": "code",
      "metadata": {
        "id": "0vxAzP710iOw"
      },
      "source": [
        "# Python program to explain cv2.imread() method\n",
        "# importing cv2\n",
        "import cv2\n",
        "\n",
        "#if you are using colab import this lines\n",
        "from google.colab.patches import cv2_imshow\n",
        "import urllib.request\n",
        "from PIL import Image\n",
        "\n",
        "# path\n",
        "#path = r'E:\\image\\ppt3.jpg'\n",
        "\n",
        "#in colab ur path is '/content/{{filename.extension}}'\n",
        "path = r'/content/python.png'\n",
        "\n",
        "# Using cv2.imread() method\n",
        "# Using 0 to read image in grayscale mode\n",
        "img = cv2.imread(path, 0)\n",
        "\n",
        "# Displaying the image\n",
        "#use below line if ue not using colab\n",
        "#cv2.imshow('image', img)\n",
        "\n",
        "\n",
        "# for colab use below line\n",
        "\n",
        "cv2_imshow(img)\n",
        "\n",
        "cv2.waitKey(0)\n",
        "\n",
        "cv2.destroyAllWindows()"
      ],
      "execution_count": null,
      "outputs": []
    },
    {
      "cell_type": "markdown",
      "metadata": {
        "id": "z1pwBJKO9Jth"
      },
      "source": [
        "**Note: If you are using local system you can see output image in new window in taskbar.**"
      ]
    },
    {
      "cell_type": "markdown",
      "metadata": {
        "id": "sGtK2DR39K0Q"
      },
      "source": [
        "***\n",
        "\n",
        "**(C)\tWrite code for write an image.**\n",
        "\n",
        "\n",
        "***"
      ]
    },
    {
      "cell_type": "code",
      "metadata": {
        "id": "88JV8DCf4sHY"
      },
      "source": [
        "# Python program to explain cv2.imwrite() method  \n",
        "# importing cv2 \n",
        "import cv2\n",
        "\n",
        "# importing os module  \n",
        "import os\n",
        "\n",
        "#if you are using colab import this lines\n",
        "from google.colab.patches import cv2_imshow\n",
        "import urllib.request\n",
        "from PIL import Image\n",
        "\n",
        "\n",
        "# Image path\n",
        "image_path = r'/content/python.png'\n",
        "\n",
        "# Image directory\n",
        "directory = r'/content'\n",
        "\n",
        "# Using cv2.imread() method\n",
        "# to read the image\n",
        "img = cv2.imread(image_path)\n",
        "\n",
        "\n",
        "# Change the current directory \n",
        "# to specified directory \n",
        "os.chdir(directory)\n",
        "\n",
        "# List files and directories  \n",
        "# in 'C:/Users/Rajnish/Desktop/GeeksforGeeks'  \n",
        "print(\"Before saving image:\")  \n",
        "print(os.listdir(directory))  \n",
        "\n",
        "# Filename\n",
        "filename = 'python_2.png'\n",
        "\n",
        "\n",
        "# Using cv2.imwrite() method\n",
        "# Saving the image\n",
        "cv2.imwrite(filename, img)\n",
        "\n",
        "\n",
        "# List files and directories  \n",
        "# in 'C:/Users / Rajnish / Desktop / GeeksforGeeks'  \n",
        "print(\"After saving image:\")  \n",
        "print(os.listdir(directory))\n",
        "print('Successfully saved')\n"
      ],
      "execution_count": null,
      "outputs": []
    },
    {
      "cell_type": "markdown",
      "metadata": {
        "id": "6-c03U2t-B3e"
      },
      "source": [
        "**NOTE : Output will be new image with the name as you have defined in code in the destination folder.**"
      ]
    },
    {
      "cell_type": "code",
      "metadata": {
        "id": "s8Yxncf_96AU"
      },
      "source": [
        ""
      ],
      "execution_count": null,
      "outputs": []
    }
  ]
}